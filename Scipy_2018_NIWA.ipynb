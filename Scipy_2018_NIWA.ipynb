{
 "cells": [
  {
   "cell_type": "markdown",
   "metadata": {
    "slideshow": {
     "slide_type": "slide"
    }
   },
   "source": [
    "# Scipy 2018 (Scientific Programming with Python) conference: a short trip report\n",
    "\n",
    "[Nicolas Fauchereau](https://github.com/jupyter-widgets/tutorial)\n",
    "\n",
    "\n",
    "Tuesday 4 September 2018, Auckland"
   ]
  },
  {
   "cell_type": "markdown",
   "metadata": {
    "slideshow": {
     "slide_type": "slide"
    }
   },
   "source": [
    "### Scipy: a brief overview\n",
    "\n",
    "+ Austin, Texas, AT&T Executive Education and Conference Centre at the University of Texas at Austin\n",
    "+ ~ 800 Participants this year\n",
    "+ Industry, Academia, National Labs, etc\n",
    "+ 2 days of tutorials\n",
    "+ 3 days of conference (talks, posters, birds of a feather) \n",
    "+ 2 days of `sprints`\n",
    "+ [https://scipy2018.scipy.org/](https://scipy2018.scipy.org/)"
   ]
  },
  {
   "cell_type": "markdown",
   "metadata": {
    "slideshow": {
     "slide_type": "slide"
    }
   },
   "source": [
    "# Tutorials\n",
    "\n",
    "## day 1\n",
    "\n",
    "+ Parallelizing Scientific Python with Dask  \n",
    "[https://github.com/martindurant/dask-tutorial-scipy-2018](https://github.com/martindurant/dask-tutorial-scipy-2018)\n",
    "\n",
    "\n",
    "+ An Introduction to Julia (see [https://julialang.org/](https://julialang.org/))  \n",
    "[https://github.com/JuliaComputing/JuliaBoxTutorials](https://github.com/JuliaComputing/JuliaBoxTutorials)"
   ]
  },
  {
   "cell_type": "markdown",
   "metadata": {
    "slideshow": {
     "slide_type": "subslide"
    }
   },
   "source": [
    "## day 2\n",
    "\n",
    "+ Introduction to Geospatial Data Analysis with Python  \n",
    "[https://github.com/geopandas/scipy2018-geospatial-data/](https://github.com/geopandas/scipy2018-geospatial-data/)\n",
    "\n",
    "\n",
    "+ Machine Learning with scikit-learn (Part 2)  \n",
    "[https://github.com/amueller/scipy-2018-sklearn](https://github.com/amueller/scipy-2018-sklearn)"
   ]
  },
  {
   "cell_type": "markdown",
   "metadata": {
    "slideshow": {
     "slide_type": "slide"
    }
   },
   "source": [
    "# Talks \n",
    "\n",
    "**tracks:** \n",
    "\n",
    "General, **Machine Learning**, **Earth, Ocean and Geoscience**, Image Processing, Astronomy, Biology and Bioinformatics, **Data Science**, Reproducibility and Software Sustainability, **Data Visualization**, Materials Science. \n",
    "\n"
   ]
  },
  {
   "cell_type": "markdown",
   "metadata": {
    "slideshow": {
     "slide_type": "slide"
    }
   },
   "source": [
    "# A brief selection of interesting talks"
   ]
  },
  {
   "cell_type": "markdown",
   "metadata": {
    "slideshow": {
     "slide_type": "slide"
    }
   },
   "source": [
    "#### Wednesday 11 July \n",
    "\n",
    "+ **Keynote**: SciPy 1.0 and Beyond - a Story of Code and Community [*Ralf Gommers, FP Innovations, Scion*]  \n",
    "\n",
    "\n",
    "+ [SatPy: A Python Library for Weather Satellite Processing](https://scipy2018.scipy.org/ehome/index.php?eventid=299527&tabid=721463&cid=2264594&sessionid=21618382&sessionchoice=1&) \n",
    "+ [The Past, Present, and Future of Automated Machine Learning](https://scipy2018.scipy.org/ehome/index.php?eventid=299527&tabid=721463&cid=2264594&sessionid=21618936&sessionchoice=1&)\n",
    "+ [PANGEO: A Big-data Ecosystem for Scalable Earth System Science](https://scipy2018.scipy.org/ehome/index.php?eventid=299527&tabid=721463&cid=2264594&sessionid=21618394&sessionchoice=1&) \n",
    "+ [Beyond Scraping: How to Use Machine Learning When You're not Sure Where to Start](https://scipy2018.scipy.org/ehome/index.php?eventid=299527&tabid=721463&cid=2264594&sessionid=22060628&sessionchoice=1&)  \n",
    "+ [Apache Arrow: A Cross-language Development Platform for In-memory Data](https://scipy2018.scipy.org/ehome/index.php?eventid=299527&tabid=721463&cid=2264594&sessionid=21618887&sessionchoice=1&)   \n",
    "\n",
    "+ Lightning talks [https://www.youtube.com/watch?v=1HDq7QoOlI4](https://www.youtube.com/watch?v=1HDq7QoOlI4)\n"
   ]
  },
  {
   "cell_type": "markdown",
   "metadata": {
    "slideshow": {
     "slide_type": "slide"
    }
   },
   "source": [
    "#### Thursday 12 July \n",
    "\n",
    "+ **Keynote**: democratizing data [*Tracy Teal, Data Carpentry*]  \n",
    "\n",
    "\n",
    "+ [Website for Interacting with Oceanographic Data and Numerical Model Output](https://scipy2018.scipy.org/ehome/index.php?eventid=299527&tabid=721463&cid=2264594&sessionid=21618396&sessionchoice=1&)  \n",
    "+ [Detecting Anomalies Using Statistical Distances](https://scipy2018.scipy.org/ehome/index.php?eventid=299527&tabid=721463&cid=2264594&sessionid=21618892&sessionchoice=1&)   \n",
    "+ [EarthSim: Flexible Environmental Simulation Workflows Entirely Within Jupyter Notebooks](https://scipy2018.scipy.org/ehome/index.php?eventid=299527&tabid=721463&cid=2264594&sessionid=21618398&sessionchoice=1&)  \n",
    "+ [Bringing ipywidgets Support to plotly.py](https://scipy2018.scipy.org/ehome/index.php?eventid=299527&tabid=721463&cid=2264594&sessionid=21616512&sessionchoice=1&)  \n",
    "+ [Data Visualization for Scientific Discovery](https://scipy2018.scipy.org/ehome/index.php?eventid=299527&tabid=721463&cid=2264594&sessionid=21616170&sessionchoice=1&)  \n",
    "+ [Spatio-temporal Analysis of Socioeconomic Neighborhoods](https://scipy2018.scipy.org/ehome/index.php?eventid=299527&tabid=721463&cid=2264594&sessionid=21619044&sessionchoice=1&). \n",
    "+ [Open Source Tools for 'Heterogeneous Agent' Modeling](https://scipy2018.scipy.org/ehome/index.php?eventid=299527&tabid=721463&cid=2264594&sessionid=21619043&sessionchoice=1&). "
   ]
  },
  {
   "cell_type": "markdown",
   "metadata": {
    "slideshow": {
     "slide_type": "slide"
    }
   },
   "source": [
    "#### Friday 13 July \n",
    "\n",
    "+ **Keynote**: Black and Gold: The Role of Python in Recent Gravitational Wave Astronomy Breakthroughs with LIGO and Virgo  \n",
    "\n",
    "\n",
    "+ [Building your own Weather App using NOAA Open Data and Jupyter Notebooks](https://scipy2018.scipy.org/ehome/index.php?eventid=299527&tabid=721463&cid=2264594&sessionid=21618399&sessionchoice=1&)  \n",
    "+ [Building an Object-Oriented Python Interface for the Generic Mapping Tools](https://scipy2018.scipy.org/ehome/index.php?eventid=299527&tabid=721463&cid=2264594&sessionid=21618400&sessionchoice=1&)  \n",
    "+ [Development of MetPy’s Declarative Plotting Interface](https://scipy2018.scipy.org/ehome/index.php?eventid=299527&tabid=721463&cid=2264594&sessionid=21618401&sessionchoice=1&)  \n",
    "+ [bqplot: Seamless Interactive Visualizations and Dashboards in the Jupyter Notebook](https://scipy2018.scipy.org/ehome/index.php?eventid=299527&tabid=721463&cid=2264594&sessionid=21615982&sessionchoice=1&)  \n",
    "+ [Interactive Data Visualization Leveraging Jupyter, Rust and WebAssembly](https://scipy2018.scipy.org/ehome/index.php?eventid=299527&tabid=721463&cid=2264594&sessionid=21616614&sessionchoice=1&)  \n",
    "+ [PyViz: Unifying Python Tools for In-Browser Data Visualization](https://scipy2018.scipy.org/ehome/index.php?eventid=299527&tabid=721463&cid=2264594&sessionid=21616294&sessionchoice=1&)  \n",
    "\n"
   ]
  },
  {
   "cell_type": "markdown",
   "metadata": {
    "slideshow": {
     "slide_type": "slide"
    }
   },
   "source": [
    "# interesting projects and new developments (demos !)"
   ]
  },
  {
   "cell_type": "markdown",
   "metadata": {
    "slideshow": {
     "slide_type": "slide"
    }
   },
   "source": [
    "# Parallelizing Scientific Python with Dask\n"
   ]
  },
  {
   "cell_type": "markdown",
   "metadata": {
    "slideshow": {
     "slide_type": "subslide"
    }
   },
   "source": [
    "## what is dask ?\n",
    "\n",
    "In a nutshell, **Dask** is a parallel computing framework that allows to scale Python data structures and tools to work on multi-CPU / Multi-Core single machines or Clusters (Cloud or HPC environments) \n",
    "\n",
    "### Main components: \n",
    "\n",
    "+ `Dask Delayed`: parallelize user-defined functions\n",
    "+ `Dask arrays`: dask-enabled numpy arrays\n",
    "+ `Dask Dataframe`: dask-enabled Pandas DataFrames"
   ]
  },
  {
   "cell_type": "code",
   "execution_count": null,
   "metadata": {
    "slideshow": {
     "slide_type": "subslide"
    }
   },
   "outputs": [],
   "source": [
    "from IPython.display import IFrame\n",
    "IFrame('http://dask.pydata.org/en/latest/', width=\"100%\", height=500)"
   ]
  },
  {
   "cell_type": "markdown",
   "metadata": {
    "slideshow": {
     "slide_type": "subslide"
    }
   },
   "source": [
    "## Dask delayed"
   ]
  },
  {
   "cell_type": "code",
   "execution_count": null,
   "metadata": {
    "slideshow": {
     "slide_type": "subslide"
    }
   },
   "outputs": [],
   "source": [
    "from dask import delayed\n",
    "from time import sleep\n",
    "\n",
    "def inc(x):\n",
    "    sleep(1)\n",
    "    return x + 1\n",
    "\n",
    "def add(x, y):\n",
    "    sleep(1)\n",
    "    return x + y"
   ]
  },
  {
   "cell_type": "code",
   "execution_count": null,
   "metadata": {
    "slideshow": {
     "slide_type": "subslide"
    }
   },
   "outputs": [],
   "source": [
    "%%time\n",
    "\n",
    "x = inc(1)\n",
    "y = inc(2)\n",
    "z = add(x, y)"
   ]
  },
  {
   "cell_type": "code",
   "execution_count": null,
   "metadata": {
    "slideshow": {
     "slide_type": "fragment"
    }
   },
   "outputs": [],
   "source": [
    "z"
   ]
  },
  {
   "cell_type": "code",
   "execution_count": null,
   "metadata": {
    "slideshow": {
     "slide_type": "subslide"
    }
   },
   "outputs": [],
   "source": [
    "%%time\n",
    "# This runs immediately, all it does is build a graph\n",
    "\n",
    "x = delayed(inc)(1)\n",
    "y = delayed(inc)(2)\n",
    "z = delayed(add)(x, y)"
   ]
  },
  {
   "cell_type": "code",
   "execution_count": null,
   "metadata": {
    "slideshow": {
     "slide_type": "fragment"
    }
   },
   "outputs": [],
   "source": [
    "z"
   ]
  },
  {
   "cell_type": "code",
   "execution_count": null,
   "metadata": {
    "slideshow": {
     "slide_type": "subslide"
    }
   },
   "outputs": [],
   "source": [
    "%%time\n",
    "# This actually runs our computation using a local thread pool\n",
    "\n",
    "z.compute()"
   ]
  },
  {
   "cell_type": "code",
   "execution_count": null,
   "metadata": {
    "slideshow": {
     "slide_type": "subslide"
    }
   },
   "outputs": [],
   "source": [
    "z.visualize()"
   ]
  },
  {
   "cell_type": "markdown",
   "metadata": {
    "slideshow": {
     "slide_type": "subslide"
    }
   },
   "source": [
    "## Dask arrays"
   ]
  },
  {
   "cell_type": "markdown",
   "metadata": {
    "slideshow": {
     "slide_type": "subslide"
    }
   },
   "source": [
    "<img src=\"http://dask.pydata.org/en/latest/_images/dask-array-black-text.svg\" width=\"50%\" align=\"center\">"
   ]
  },
  {
   "cell_type": "code",
   "execution_count": null,
   "metadata": {
    "slideshow": {
     "slide_type": "subslide"
    }
   },
   "outputs": [],
   "source": [
    "import numpy as np\n",
    "import dask.array as da"
   ]
  },
  {
   "cell_type": "code",
   "execution_count": null,
   "metadata": {
    "slideshow": {
     "slide_type": "fragment"
    }
   },
   "outputs": [],
   "source": [
    "%%time \n",
    "x = np.random.normal(10, 0.1, size=(20000, 20000)) \n",
    "y = x.mean(axis=0)[::100] \n",
    "y"
   ]
  },
  {
   "cell_type": "code",
   "execution_count": null,
   "metadata": {
    "slideshow": {
     "slide_type": "subslide"
    }
   },
   "outputs": [],
   "source": [
    "%%time\n",
    "x = da.random.normal(10, 0.1, size=(20000, 20000), chunks=(1000, 1000))\n",
    "y = x.mean(axis=0)[::100] \n",
    "y.compute() "
   ]
  },
  {
   "cell_type": "markdown",
   "metadata": {
    "slideshow": {
     "slide_type": "subslide"
    }
   },
   "source": [
    "# Dask dataframes"
   ]
  },
  {
   "cell_type": "code",
   "execution_count": null,
   "metadata": {
    "slideshow": {
     "slide_type": "subslide"
    }
   },
   "outputs": [],
   "source": [
    "import os\n",
    "\n",
    "import dask\n",
    "import dask.dataframe as dd\n",
    "import pandas as pd"
   ]
  },
  {
   "cell_type": "code",
   "execution_count": null,
   "metadata": {
    "slideshow": {
     "slide_type": "subslide"
    }
   },
   "outputs": [],
   "source": [
    "df = dd.read_csv(os.path.join('./data', 'nycflights', '*.csv'),\n",
    "                 parse_dates={'Date': [0, 1, 2]},\n",
    "                 dtype={'TailNum': str,\n",
    "                        'CRSElapsedTime': float,\n",
    "                        'Cancelled': bool,\n",
    "                       'Origin':str})"
   ]
  },
  {
   "cell_type": "code",
   "execution_count": null,
   "metadata": {
    "slideshow": {
     "slide_type": "subslide"
    }
   },
   "outputs": [],
   "source": [
    "df.DepDelay.max().compute()"
   ]
  },
  {
   "cell_type": "code",
   "execution_count": null,
   "metadata": {
    "slideshow": {
     "slide_type": "fragment"
    }
   },
   "outputs": [],
   "source": [
    "df.DepDelay.max().visualize()"
   ]
  },
  {
   "cell_type": "code",
   "execution_count": null,
   "metadata": {
    "slideshow": {
     "slide_type": "subslide"
    }
   },
   "outputs": [],
   "source": [
    "from IPython.display import YouTubeVideo\n",
    "YouTubeVideo(\"mqdglv9GnM8\", width=700, height=400)"
   ]
  },
  {
   "cell_type": "markdown",
   "metadata": {
    "slideshow": {
     "slide_type": "slide"
    }
   },
   "source": [
    "# PANGEO \n",
    "\n",
    "## A community platform for Big Data geoscience\n",
    "\n",
    "[http://pangeo.io/](http://pangeo.io/)\n",
    "\n"
   ]
  },
  {
   "cell_type": "code",
   "execution_count": null,
   "metadata": {
    "slideshow": {
     "slide_type": "subslide"
    }
   },
   "outputs": [],
   "source": [
    "IFrame('http://pangeo.io/', width=\"100%\", height=700)"
   ]
  },
  {
   "cell_type": "markdown",
   "metadata": {
    "slideshow": {
     "slide_type": "subslide"
    }
   },
   "source": [
    "+ Enable **Big Data** Geoscience (focus so far on Ocean, Atmospheric Science)  \n",
    "\n",
    "+ Responds to the challenge posed by exponential growth in datasets produced by satellites, models, etc. (**petabyte-scale** datasets)  \n",
    "\n",
    "+ Leverages familiar Python software stack ([Jupyter](http://jupyter.org/), [Xarray](http://xarray.pydata.org/en/stable/) / [Iris](https://scitools.org.uk/iris/docs/latest/), [Dask](http://dask.pydata.org/en/latest/), etc.) to enable the **interactive** analysis of very large datasets in **cloud or HPC environments**"
   ]
  },
  {
   "cell_type": "markdown",
   "metadata": {
    "slideshow": {
     "slide_type": "subslide"
    }
   },
   "source": [
    "# demo ! \n",
    "\n",
    "<br>\n",
    "\n",
    "![Kiku](images/crossed-fingers.png)   \n",
    "\n",
    "[http://pangeo.pydata.org/hub/login](http://pangeo.pydata.org/hub/login)\n"
   ]
  }
 ],
 "metadata": {
  "celltoolbar": "Slideshow",
  "kernelspec": {
   "display_name": "Python 3",
   "language": "python",
   "name": "python3"
  },
  "language_info": {
   "codemirror_mode": {
    "name": "ipython",
    "version": 3
   },
   "file_extension": ".py",
   "mimetype": "text/x-python",
   "name": "python",
   "nbconvert_exporter": "python",
   "pygments_lexer": "ipython3",
   "version": "3.6.6"
  }
 },
 "nbformat": 4,
 "nbformat_minor": 2
}
